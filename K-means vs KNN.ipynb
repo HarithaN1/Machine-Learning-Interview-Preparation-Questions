{
 "cells": [
  {
   "cell_type": "markdown",
   "metadata": {},
   "source": [
    "# KNN – k-nearest neighbors algorithm\n",
    "\n",
    "* non-parametric\n",
    "* classification & regression\n",
    "* k closest training examples in feature space\n",
    "\n",
    "* Classification: majority vote\n",
    "* Regression: average of k nearest neighbors"
   ]
  },
  {
   "cell_type": "markdown",
   "metadata": {},
   "source": [
    "<img src=\"images/knn.png\">"
   ]
  },
  {
   "cell_type": "markdown",
   "metadata": {},
   "source": [
    "# K-means clustering\n",
    "\n",
    "* vector quantization\n",
    "* cluster analysis & data mining\n",
    "* partition observations into k clusters\n",
    "\n",
    "* randomly initalize k means\n",
    "* assign every point to closest mean\n",
    "* update mean with centroid of points assigned to it\n",
    "* repeat until convergence\n"
   ]
  },
  {
   "cell_type": "markdown",
   "metadata": {},
   "source": [
    "<img src=\"images/k-means.gif\">"
   ]
  }
 ],
 "metadata": {
  "kernelspec": {
   "display_name": "Python 3",
   "language": "python",
   "name": "python3"
  },
  "language_info": {
   "codemirror_mode": {
    "name": "ipython",
    "version": 3
   },
   "file_extension": ".py",
   "mimetype": "text/x-python",
   "name": "python",
   "nbconvert_exporter": "python",
   "pygments_lexer": "ipython3",
   "version": "3.6.3"
  }
 },
 "nbformat": 4,
 "nbformat_minor": 2
}
